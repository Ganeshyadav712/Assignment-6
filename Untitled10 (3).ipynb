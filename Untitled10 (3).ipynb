{
  "nbformat": 4,
  "nbformat_minor": 0,
  "metadata": {
    "colab": {
      "name": "Untitled10.ipynb",
      "provenance": []
    },
    "kernelspec": {
      "name": "python3",
      "display_name": "Python 3"
    },
    "language_info": {
      "name": "python"
    }
  },
  "cells": [
    {
      "cell_type": "code",
      "metadata": {
        "colab": {
          "base_uri": "https://localhost:8080/",
          "height": 248
        },
        "id": "gyiZRLcK0Rse",
        "outputId": "9babf3d7-501f-4996-e2ff-b0c018221a16"
      },
      "source": [
        "import numpy as np\n",
        "import matplotlib.pyplot as plt\n",
        "\n",
        "\n",
        "#if using termux\n",
        "import subprocess\n",
        "import shlex\n",
        "\n",
        "\n",
        "#vertices\n",
        "A = np.array([10, 0])\n",
        "B = np.array([-10, 0])\n",
        "C = np.array([0, 0])\n",
        "D = np.array([-2, 0])\n",
        "\n",
        "X_coord = np.array(np.linspace(-9.0, 9.0, num=19))\n",
        "Y_coord = np.zeros(19)\n",
        "\n",
        "def line_gen(A,B):\n",
        "  len =10\n",
        "  dim = A.shape[0]\n",
        "  x_AB = np.zeros((dim,len))\n",
        "  lam_1 = np.linspace(0,1,len)\n",
        "  for i in range(len):\n",
        "    temp1 = A + lam_1[i]*(B-A)\n",
        "    x_AB[:,i]= temp1.T\n",
        "  return x_AB\n",
        "#Generating all lines\n",
        "x_DB = line_gen(D, B-[np.nextafter(0, 1), 0])\n",
        "x_AB = line_gen(A, B)\n",
        "\n",
        "#Plotting all lines\n",
        "plt.plot(x_AB[0,:], x_AB[1,:], color='black', label='Number line')\n",
        "plt.plot(x_DB[0,:], x_DB[1,:], label='Values of x which satisfy the inequality')\n",
        "plt.plot(X_coord, Y_coord, 'o')\n",
        "\n",
        "plt.plot(A[0], A[1], '>',)\n",
        "plt.text(A[0], 0.005, '$∞$')\n",
        "plt.plot(B[0], B[1], '<')\n",
        "plt.text(B[0], 0.005, '$-∞$')\n",
        "plt.plot(C[0], C[1], 'o')\n",
        "plt.text(C[0], 0.005 , '$0$')\n",
        "plt.plot(D[0], D[1], 'o')\n",
        "plt.text(D[0], 0.005 , '$-2$')\n",
        "\n",
        "plt.axis('off')\n",
        "plt.legend(loc='best')\n",
        "#if using termux\n",
        "# plt.savefig('./figs/number_line.pdf')\n",
        "# plt.savefig('./figs/number_line.eps')\n",
        "# subprocess.run(shlex.split(\"termux-open ./figs/number_line.pdf\"))\n",
        "#else\n",
        "plt.show()"
      ],
      "execution_count": 6,
      "outputs": [
        {
          "output_type": "display_data",
          "data": {
            "image/png": "[encoded data removed]",
            "text/plain": [
              "<Figure size 432x288 with 1 Axes>"
            ]
          },
          "metadata": {
            "needs_background": "light"
          }
        }
      ]
    }
  ]
}